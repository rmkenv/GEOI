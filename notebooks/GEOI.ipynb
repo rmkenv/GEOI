{
 "cells": [
  {
   "cell_type": "code",
   "execution_count": 4,
   "id": "d8d8d4dd-4996-4a30-9e98-fc5b95f9a447",
   "metadata": {},
   "outputs": [
    {
     "name": "stderr",
     "output_type": "stream",
     "text": [
      "/var/folders/1h/gjztmyp12ybcrhxd6zqj7yk40000gn/T/ipykernel_11527/1974945069.py:24: DeprecationWarning: 'pkgutil.find_loader' is deprecated and slated for removal in Python 3.14; use importlib.util.find_spec() instead\n",
      "  if not pkgutil.find_loader(pkg):\n"
     ]
    },
    {
     "name": "stdout",
     "output_type": "stream",
     "text": [
      "Installing missing packages: ['yfinance>=0.2.40', 'fastparquet>=2024.2.0']\n",
      "Environment ready: 2.2.3 2.3.3\n"
     ]
    }
   ],
   "source": [
    "# Auto-setup for GEOI notebook\n",
    "\n",
    "import sys, subprocess, pkgutil\n",
    "\n",
    "def pip_install(pkgs):\n",
    "    subprocess.check_call([sys.executable, \"-m\", \"pip\", \"install\", \"-q\"] + pkgs)\n",
    "\n",
    "# Core deps (pin or float as you prefer)\n",
    "required = [\n",
    "    \"ipywidgets>=8.0.0\",\n",
    "    \"yfinance>=0.2.40\",\n",
    "    \"fastparquet>=2024.2.0\",\n",
    "    # Optional alternative parquet engine:\n",
    "    # \"pyarrow>=16.0.0\",\n",
    "    \"pandas>=2.0.0\",\n",
    "    \"numpy>=1.24.0\",\n",
    "    \"requests>=2.31.0\"\n",
    "]\n",
    "\n",
    "# Install if missing\n",
    "to_install = []\n",
    "for spec in required:\n",
    "    pkg = spec.split(\">=\")[0].split(\"==\")[0]\n",
    "    if not pkgutil.find_loader(pkg):\n",
    "        to_install.append(spec)\n",
    "\n",
    "if to_install:\n",
    "    print(\"Installing missing packages:\", to_install)\n",
    "    pip_install(to_install)\n",
    "\n",
    "# Enable widgets (Colab auto; local classic Jupyter may need nbextension enabled once)\n",
    "try:\n",
    "    from google.colab import output as colab_output  # type: ignore\n",
    "    colab_output.enable_custom_widget_manager()\n",
    "    print(\"Colab widget manager enabled.\")\n",
    "except Exception:\n",
    "    pass\n",
    "\n",
    "# Smoke test imports\n",
    "import ipywidgets as widgets\n",
    "import pandas as pd, numpy as np\n",
    "import yfinance as yf\n",
    "print(\"Environment ready:\", pd.__version__, np.__version__)"
   ]
  },
  {
   "cell_type": "code",
   "execution_count": 1,
   "id": "128b6aaa-f022-4a6c-96ba-50ec54cfda9a",
   "metadata": {},
   "outputs": [
    {
     "name": "stdout",
     "output_type": "stream",
     "text": [
      "Cloning into 'GEOI'...\n",
      "remote: Enumerating objects: 46, done.\u001b[K\n",
      "remote: Counting objects: 100% (46/46), done.\u001b[K\n",
      "remote: Compressing objects: 100% (40/40), done.\u001b[K\n",
      "remote: Total 46 (delta 14), reused 5 (delta 1), pack-reused 0 (from 0)\u001b[K\n",
      "Receiving objects: 100% (46/46), 502.50 KiB | 6.70 MiB/s, done.\n",
      "Resolving deltas: 100% (14/14), done.\n",
      "/Users/rmk/GEOI\n"
     ]
    }
   ],
   "source": [
    "!git clone https://github.com/rmkenv/GEOI.git || true\n",
    "%cd GEOI"
   ]
  },
  {
   "cell_type": "code",
   "execution_count": 5,
   "id": "45c27fea-a9f3-4be1-ac3f-b0ac184cbec6",
   "metadata": {
    "scrolled": true
   },
   "outputs": [
    {
     "name": "stdout",
     "output_type": "stream",
     "text": [
      "  % Total    % Received % Xferd  Average Speed   Time    Time     Time  Current\n",
      "                                 Dload  Upload   Total   Spent    Left  Speed\n",
      "100 36641  100 36641    0     0   457k      0 --:--:-- --:--:-- --:--:--  458k\n",
      "============================================================\n",
      "GEOSPATIAL PORTFOLIO ANALYSIS\n",
      "Loading latest snapshot from GitHub...\n",
      "============================================================\n"
     ]
    },
    {
     "name": "stderr",
     "output_type": "stream",
     "text": [
      "14:52:07 [INFO] Latest snapshot found: snapshot_2025-10-09.parquet\n",
      "14:52:07 [INFO] Loading snapshot from: https://raw.githubusercontent.com/rmkenv/GEOI/main/snapshots/2025/snapshot_2025-10-09.parquet\n",
      "14:52:09 [INFO] Parquet columns detected: ['symbol', 'YahooSymbolClean', 'industry_original', 'Main Industry', 'Sub Industry', 'country_original', 'HQ_Lat', 'HQ_Lon', 'HQ_Resolved_Address', 'companyName', 'exchange_code', 'inclusion_reason', 'product_url', 'marketCapBillions', 'marketCap', 'revenue', 'netIncome', 'price', 'peRatio', 'growthRevenue']... (80 total columns)\n"
     ]
    },
    {
     "data": {
      "text/html": [
       "<div>\n",
       "<style scoped>\n",
       "    .dataframe tbody tr th:only-of-type {\n",
       "        vertical-align: middle;\n",
       "    }\n",
       "\n",
       "    .dataframe tbody tr th {\n",
       "        vertical-align: top;\n",
       "    }\n",
       "\n",
       "    .dataframe thead th {\n",
       "        text-align: right;\n",
       "    }\n",
       "</style>\n",
       "<table border=\"1\" class=\"dataframe\">\n",
       "  <thead>\n",
       "    <tr style=\"text-align: right;\">\n",
       "      <th></th>\n",
       "      <th>symbol</th>\n",
       "      <th>YahooSymbolClean</th>\n",
       "      <th>industry_original</th>\n",
       "      <th>Main Industry</th>\n",
       "      <th>Sub Industry</th>\n",
       "      <th>country_original</th>\n",
       "      <th>HQ_Lat</th>\n",
       "      <th>HQ_Lon</th>\n",
       "      <th>HQ_Resolved_Address</th>\n",
       "      <th>companyName</th>\n",
       "      <th>...</th>\n",
       "      <th>currency</th>\n",
       "      <th>exchange</th>\n",
       "      <th>fifty_two_week_high</th>\n",
       "      <th>fifty_two_week_low</th>\n",
       "      <th>pe_ratio</th>\n",
       "      <th>dividend_yield</th>\n",
       "      <th>beta</th>\n",
       "      <th>snapshot_date</th>\n",
       "      <th>data_start_date</th>\n",
       "      <th>data_end_date</th>\n",
       "    </tr>\n",
       "  </thead>\n",
       "  <tbody>\n",
       "    <tr>\n",
       "      <th>0</th>\n",
       "      <td>NVDA</td>\n",
       "      <td>NVDA</td>\n",
       "      <td>Semiconductors</td>\n",
       "      <td>Semiconductors</td>\n",
       "      <td>None</td>\n",
       "      <td>United States</td>\n",
       "      <td>NaN</td>\n",
       "      <td>NaN</td>\n",
       "      <td>NaN</td>\n",
       "      <td>NVIDIA Corporation</td>\n",
       "      <td>...</td>\n",
       "      <td>USD</td>\n",
       "      <td>NMS</td>\n",
       "      <td>195.30</td>\n",
       "      <td>86.62</td>\n",
       "      <td>54.776646</td>\n",
       "      <td>0.02</td>\n",
       "      <td>2.123</td>\n",
       "      <td>2025-10-09T18:15:45.309983</td>\n",
       "      <td>2025-10-01T04:00:00</td>\n",
       "      <td>2025-10-09T04:00:00</td>\n",
       "    </tr>\n",
       "    <tr>\n",
       "      <th>1</th>\n",
       "      <td>MSFT</td>\n",
       "      <td>MSFT</td>\n",
       "      <td>Software - Infrastructure</td>\n",
       "      <td>Software</td>\n",
       "      <td>Infrastructure</td>\n",
       "      <td>United States</td>\n",
       "      <td>NaN</td>\n",
       "      <td>NaN</td>\n",
       "      <td>NaN</td>\n",
       "      <td>Microsoft Corporation</td>\n",
       "      <td>...</td>\n",
       "      <td>USD</td>\n",
       "      <td>NMS</td>\n",
       "      <td>555.45</td>\n",
       "      <td>344.79</td>\n",
       "      <td>38.074722</td>\n",
       "      <td>0.69</td>\n",
       "      <td>1.023</td>\n",
       "      <td>2025-10-09T18:15:45.742290</td>\n",
       "      <td>2025-10-01T04:00:00</td>\n",
       "      <td>2025-10-09T04:00:00</td>\n",
       "    </tr>\n",
       "    <tr>\n",
       "      <th>2</th>\n",
       "      <td>GOOG</td>\n",
       "      <td>GOOG</td>\n",
       "      <td>Internet Content &amp; Information</td>\n",
       "      <td>Internet Content &amp; Information</td>\n",
       "      <td>None</td>\n",
       "      <td>United States</td>\n",
       "      <td>NaN</td>\n",
       "      <td>NaN</td>\n",
       "      <td>NaN</td>\n",
       "      <td>Alphabet Inc.</td>\n",
       "      <td>...</td>\n",
       "      <td>USD</td>\n",
       "      <td>NMS</td>\n",
       "      <td>256.70</td>\n",
       "      <td>142.66</td>\n",
       "      <td>25.720533</td>\n",
       "      <td>0.34</td>\n",
       "      <td>1.000</td>\n",
       "      <td>2025-10-09T18:15:46.117755</td>\n",
       "      <td>2025-10-01T04:00:00</td>\n",
       "      <td>2025-10-09T04:00:00</td>\n",
       "    </tr>\n",
       "    <tr>\n",
       "      <th>3</th>\n",
       "      <td>GOOGL</td>\n",
       "      <td>GOOGL</td>\n",
       "      <td>Internet Content &amp; Information</td>\n",
       "      <td>Internet Content &amp; Information</td>\n",
       "      <td>None</td>\n",
       "      <td>United States</td>\n",
       "      <td>NaN</td>\n",
       "      <td>NaN</td>\n",
       "      <td>NaN</td>\n",
       "      <td>Alphabet Inc.</td>\n",
       "      <td>...</td>\n",
       "      <td>USD</td>\n",
       "      <td>NMS</td>\n",
       "      <td>256.00</td>\n",
       "      <td>140.53</td>\n",
       "      <td>25.683031</td>\n",
       "      <td>0.34</td>\n",
       "      <td>1.000</td>\n",
       "      <td>2025-10-09T18:15:46.508305</td>\n",
       "      <td>2025-10-01T04:00:00</td>\n",
       "      <td>2025-10-09T04:00:00</td>\n",
       "    </tr>\n",
       "    <tr>\n",
       "      <th>4</th>\n",
       "      <td>META</td>\n",
       "      <td>META</td>\n",
       "      <td>Internet Content &amp; Information</td>\n",
       "      <td>Internet Content &amp; Information</td>\n",
       "      <td>None</td>\n",
       "      <td>United States</td>\n",
       "      <td>NaN</td>\n",
       "      <td>NaN</td>\n",
       "      <td>NaN</td>\n",
       "      <td>Meta Platforms, Inc.</td>\n",
       "      <td>...</td>\n",
       "      <td>USD</td>\n",
       "      <td>NMS</td>\n",
       "      <td>796.25</td>\n",
       "      <td>479.80</td>\n",
       "      <td>26.470798</td>\n",
       "      <td>0.29</td>\n",
       "      <td>1.203</td>\n",
       "      <td>2025-10-09T18:15:46.814083</td>\n",
       "      <td>2025-10-01T04:00:00</td>\n",
       "      <td>2025-10-09T04:00:00</td>\n",
       "    </tr>\n",
       "  </tbody>\n",
       "</table>\n",
       "<p>5 rows × 80 columns</p>\n",
       "</div>"
      ],
      "text/plain": [
       "  symbol YahooSymbolClean               industry_original  \\\n",
       "0   NVDA             NVDA                  Semiconductors   \n",
       "1   MSFT             MSFT       Software - Infrastructure   \n",
       "2   GOOG             GOOG  Internet Content & Information   \n",
       "3  GOOGL            GOOGL  Internet Content & Information   \n",
       "4   META             META  Internet Content & Information   \n",
       "\n",
       "                    Main Industry    Sub Industry country_original  HQ_Lat  \\\n",
       "0                  Semiconductors            None    United States     NaN   \n",
       "1                        Software  Infrastructure    United States     NaN   \n",
       "2  Internet Content & Information            None    United States     NaN   \n",
       "3  Internet Content & Information            None    United States     NaN   \n",
       "4  Internet Content & Information            None    United States     NaN   \n",
       "\n",
       "   HQ_Lon  HQ_Resolved_Address            companyName  ... currency exchange  \\\n",
       "0     NaN                  NaN     NVIDIA Corporation  ...      USD      NMS   \n",
       "1     NaN                  NaN  Microsoft Corporation  ...      USD      NMS   \n",
       "2     NaN                  NaN          Alphabet Inc.  ...      USD      NMS   \n",
       "3     NaN                  NaN          Alphabet Inc.  ...      USD      NMS   \n",
       "4     NaN                  NaN   Meta Platforms, Inc.  ...      USD      NMS   \n",
       "\n",
       "  fifty_two_week_high  fifty_two_week_low   pe_ratio  dividend_yield   beta  \\\n",
       "0              195.30               86.62  54.776646            0.02  2.123   \n",
       "1              555.45              344.79  38.074722            0.69  1.023   \n",
       "2              256.70              142.66  25.720533            0.34  1.000   \n",
       "3              256.00              140.53  25.683031            0.34  1.000   \n",
       "4              796.25              479.80  26.470798            0.29  1.203   \n",
       "\n",
       "                snapshot_date      data_start_date        data_end_date  \n",
       "0  2025-10-09T18:15:45.309983  2025-10-01T04:00:00  2025-10-09T04:00:00  \n",
       "1  2025-10-09T18:15:45.742290  2025-10-01T04:00:00  2025-10-09T04:00:00  \n",
       "2  2025-10-09T18:15:46.117755  2025-10-01T04:00:00  2025-10-09T04:00:00  \n",
       "3  2025-10-09T18:15:46.508305  2025-10-01T04:00:00  2025-10-09T04:00:00  \n",
       "4  2025-10-09T18:15:46.814083  2025-10-01T04:00:00  2025-10-09T04:00:00  \n",
       "\n",
       "[5 rows x 80 columns]"
      ]
     },
     "metadata": {},
     "output_type": "display_data"
    },
    {
     "name": "stderr",
     "output_type": "stream",
     "text": [
      "14:52:09 [INFO] Parsed 1011 unique symbols from parquet snapshot.\n"
     ]
    },
    {
     "name": "stdout",
     "output_type": "stream",
     "text": [
      "\n",
      "✅ Loaded 1011 stocks from latest snapshot\n",
      "============================================================\n",
      "\n",
      "📊 DASHBOARD: Sort & Export\n"
     ]
    },
    {
     "data": {
      "application/vnd.jupyter.widget-view+json": {
       "model_id": "001c333d4ab34517a912b6e2e6743cdb",
       "version_major": 2,
       "version_minor": 0
      },
      "text/plain": [
       "VBox(children=(HTML(value='<h3>Filter & Load Stocks (with Pre-calculated Metrics)</h3>'), HBox(children=(Dropd…"
      ]
     },
     "metadata": {},
     "output_type": "display_data"
    },
    {
     "name": "stdout",
     "output_type": "stream",
     "text": [
      "\n",
      "📈 PERFORMANCE ANALYSIS\n"
     ]
    },
    {
     "data": {
      "application/vnd.jupyter.widget-view+json": {
       "model_id": "2988f819d8034f60a6a13dd23255b360",
       "version_major": 2,
       "version_minor": 0
      },
      "text/plain": [
       "VBox(children=(HTML(value='<h3>Performance Analysis (Filtered)</h3>'), HBox(children=(Dropdown(description='Pe…"
      ]
     },
     "metadata": {},
     "output_type": "display_data"
    },
    {
     "name": "stdout",
     "output_type": "stream",
     "text": [
      "\n",
      "💰 VALUE INVESTING ANALYSIS\n"
     ]
    },
    {
     "data": {
      "application/vnd.jupyter.widget-view+json": {
       "model_id": "5c547ab7338f4b09b996ec5bfe0b0e91",
       "version_major": 2,
       "version_minor": 0
      },
      "text/plain": [
       "VBox(children=(HTML(value='<h3>Value Investing Analysis (Conservative DCF)</h3>'), Dropdown(description='Symbo…"
      ]
     },
     "metadata": {},
     "output_type": "display_data"
    }
   ],
   "source": [
    "!curl -L -o analysis.py https://raw.githubusercontent.com/rmkenv/GEOI/main/analysis.py\n",
    "import importlib, analysis\n",
    "importlib.reload(analysis)\n",
    "analysis.run_portfolio_app(year_folder=None)"
   ]
  },
  {
   "cell_type": "code",
   "execution_count": null,
   "id": "c73acf42-447f-4a5c-a828-4d5377301876",
   "metadata": {},
   "outputs": [],
   "source": []
  }
 ],
 "metadata": {
  "kernelspec": {
   "display_name": "Python 3 (ipykernel)",
   "language": "python",
   "name": "python3"
  },
  "language_info": {
   "codemirror_mode": {
    "name": "ipython",
    "version": 3
   },
   "file_extension": ".py",
   "mimetype": "text/x-python",
   "name": "python",
   "nbconvert_exporter": "python",
   "pygments_lexer": "ipython3",
   "version": "3.12.10"
  }
 },
 "nbformat": 4,
 "nbformat_minor": 5
}
